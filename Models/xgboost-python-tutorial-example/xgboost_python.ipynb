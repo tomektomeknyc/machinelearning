{
 "cells": [
  {
   "cell_type": "markdown",
   "id": "879a01d5-42fb-417a-830c-87ec7ee86916",
   "metadata": {},
   "source": [
    "# Step #1: Explore and prep data"
   ]
  },
  {
   "cell_type": "code",
   "execution_count": null,
   "id": "b51bad64-2c7a-4628-8a46-6b20c5ba53a2",
   "metadata": {},
   "outputs": [],
   "source": [
    "import pandas as pd\n",
    "\n",
    "# please use the dataset bank-additional.zip and extract it\n",
    "df = pd.read_csv('bank-additional/bank-additional/bank-additional-full.csv', delimiter=';')"
   ]
  },
  {
   "cell_type": "code",
   "execution_count": null,
   "id": "46528d89-9f7a-48ba-b22d-05df72461952",
   "metadata": {},
   "outputs": [],
   "source": [
    "# list and drop columns that are less related to the target based on my judgment\n",
    "cols_to_drop = ['duration', 'emp.var.rate', 'cons.price.idx', 'cons.conf.idx', 'euribor3m', 'nr.employed']\n",
    "# at the same time, rename the columns so they are understandable. Please read the UCI page (https://archive.ics.uci.edu/ml/datasets/bank+marketing) for details\n",
    "df = df.drop(columns=cols_to_drop).rename(columns={'job': 'job_type', 'default': 'default_status', \n",
    "                                                   'housing': 'housing_loan_status', 'loan': 'personal_loan_status', \n",
    "                                                   'contact': 'contact_type', 'month': 'contact_month', \n",
    "                                                   'day_of_week': 'contact_day_of_week', 'campaign': 'num_contacts', \n",
    "                                                   'pdays': 'days_last_contact', 'previous': 'previous_contacts', \n",
    "                                                   'poutcome': 'previous_outcome', \n",
    "                                                   'y': 'result'\n",
    "                                                    })\n",
    "# convert the target to numerical values\n",
    "df['result'] = df['result'].replace({'yes': 1, 'no': 0})"
   ]
  },
  {
   "cell_type": "code",
   "execution_count": null,
   "id": "b8091a23-5ff8-4114-9c00-60c8d99a3ea3",
   "metadata": {},
   "outputs": [],
   "source": [
    "df.head()"
   ]
  },
  {
   "cell_type": "code",
   "execution_count": null,
   "id": "e53a3e27-2776-4786-bf8d-868825b1a993",
   "metadata": {},
   "outputs": [],
   "source": [
    "df.info()"
   ]
  },
  {
   "cell_type": "code",
   "execution_count": null,
   "id": "4b409b0f-6aab-4d08-acea-d1e1f09afa09",
   "metadata": {},
   "outputs": [],
   "source": [
    "df['result'].value_counts()"
   ]
  },
  {
   "cell_type": "code",
   "execution_count": null,
   "id": "c80ad4a4-b925-4366-b3f7-284740032d11",
   "metadata": {},
   "outputs": [],
   "source": [
    "from sklearn.model_selection import train_test_split\n",
    "\n",
    "X = df.drop(columns='result')\n",
    "y = df['result']\n",
    "\n",
    "X_train, X_test, y_train, y_test = train_test_split(X, y, test_size=0.2, stratify=y, random_state=8)"
   ]
  },
  {
   "cell_type": "markdown",
   "id": "b15049a9-5970-471e-8f07-295f0ca4f25f",
   "metadata": {},
   "source": [
    "# Step #2: Build a pipeline of training"
   ]
  },
  {
   "cell_type": "code",
   "execution_count": null,
   "id": "54a9477e-ed72-4464-80db-1e767e84aedf",
   "metadata": {},
   "outputs": [],
   "source": [
    "from sklearn.pipeline import Pipeline\n",
    "from category_encoders.target_encoder import TargetEncoder\n",
    "from xgboost import XGBClassifier\n",
    "\n",
    "estimators = [\n",
    "    ('encoder', TargetEncoder()),\n",
    "    ('clf', XGBClassifier(random_state=8)) # can customize objective function with the objective parameter\n",
    "]\n",
    "pipe = Pipeline(steps=estimators)\n",
    "pipe"
   ]
  },
  {
   "cell_type": "markdown",
   "id": "b90f7901-c892-43c5-be12-a94970cdedfc",
   "metadata": {
    "tags": []
   },
   "source": [
    "# Step #3: Set up hyperparameter tuning"
   ]
  },
  {
   "cell_type": "code",
   "execution_count": null,
   "id": "1a3e40fa-5eff-45b1-ad19-a91238ee4874",
   "metadata": {},
   "outputs": [],
   "source": [
    "from skopt import BayesSearchCV\n",
    "from skopt.space import Real, Categorical, Integer\n",
    "\n",
    "search_space = {\n",
    "    'clf__max_depth': Integer(2,8),\n",
    "    'clf__learning_rate': Real(0.001, 1.0, prior='log-uniform'),\n",
    "    'clf__subsample': Real(0.5, 1.0),\n",
    "    'clf__colsample_bytree': Real(0.5, 1.0),\n",
    "    'clf__colsample_bylevel': Real(0.5, 1.0),\n",
    "    'clf__colsample_bynode' : Real(0.5, 1.0),\n",
    "    'clf__reg_alpha': Real(0.0, 10.0),\n",
    "    'clf__reg_lambda': Real(0.0, 10.0),\n",
    "    'clf__gamma': Real(0.0, 10.0)\n",
    "}\n",
    "\n",
    "opt = BayesSearchCV(pipe, search_space, cv=3, n_iter=10, scoring='roc_auc', random_state=8) \n",
    "# in reality, you may consider setting cv and n_iter to higher values"
   ]
  },
  {
   "cell_type": "markdown",
   "id": "00d3d1ad-84e6-4b58-82fc-029e82d7dbe1",
   "metadata": {},
   "source": [
    "# Step #4: Train the XGBoost model"
   ]
  },
  {
   "cell_type": "code",
   "execution_count": null,
   "id": "c100a61f-9244-495c-b97e-524dc03e3eb4",
   "metadata": {
    "tags": []
   },
   "outputs": [],
   "source": [
    "opt.fit(X_train, y_train)"
   ]
  },
  {
   "cell_type": "markdown",
   "id": "7197028f-81bb-4754-9455-98aa9f76c60f",
   "metadata": {},
   "source": [
    "# Step #5: Evaluate the model and make predictions"
   ]
  },
  {
   "cell_type": "code",
   "execution_count": null,
   "id": "70fd4748-ea7e-421b-8648-1d879ba329e2",
   "metadata": {},
   "outputs": [],
   "source": [
    "opt.best_estimator_"
   ]
  },
  {
   "cell_type": "code",
   "execution_count": null,
   "id": "f8756a08-bc7c-4be3-b3b5-ef9092de4afd",
   "metadata": {},
   "outputs": [],
   "source": [
    "opt.best_score_"
   ]
  },
  {
   "cell_type": "code",
   "execution_count": null,
   "id": "52c8b8d3-f3e4-4add-a84d-91a118368bc2",
   "metadata": {},
   "outputs": [],
   "source": [
    "opt.score(X_test, y_test)"
   ]
  },
  {
   "cell_type": "code",
   "execution_count": null,
   "id": "5481577e-0ff8-4aa5-9a2c-62c76184be8c",
   "metadata": {},
   "outputs": [],
   "source": [
    "opt.predict(X_test)"
   ]
  },
  {
   "cell_type": "code",
   "execution_count": null,
   "id": "78695d4d-4595-465f-9863-6c7faab6702e",
   "metadata": {},
   "outputs": [],
   "source": [
    "opt.predict_proba(X_test)"
   ]
  },
  {
   "cell_type": "markdown",
   "id": "0bfb5111-f8e5-4fc7-957c-053acf4d7709",
   "metadata": {},
   "source": [
    "# Step #6: Measure feature importance (optional)"
   ]
  },
  {
   "cell_type": "code",
   "execution_count": null,
   "id": "5cdbef9a-290b-42b3-ab26-63369b180fa6",
   "metadata": {},
   "outputs": [],
   "source": [
    "opt.best_estimator_.steps"
   ]
  },
  {
   "cell_type": "code",
   "execution_count": null,
   "id": "f8718b7b-ccc8-4dc3-ae4d-0ffe96c8878a",
   "metadata": {},
   "outputs": [],
   "source": [
    "from xgboost import plot_importance\n",
    "\n",
    "xgboost_step = opt.best_estimator_.steps[1]\n",
    "xgboost_model = xgboost_step[1]\n",
    "plot_importance(xgboost_model)"
   ]
  },
  {
   "cell_type": "code",
   "execution_count": null,
   "id": "de73c391-a4e9-4b19-b47e-bad99cfc4986",
   "metadata": {},
   "outputs": [],
   "source": []
  }
 ],
 "metadata": {
  "kernelspec": {
   "display_name": "Python 3 (ipykernel)",
   "language": "python",
   "name": "python3"
  },
  "language_info": {
   "codemirror_mode": {
    "name": "ipython",
    "version": 3
   },
   "file_extension": ".py",
   "mimetype": "text/x-python",
   "name": "python",
   "nbconvert_exporter": "python",
   "pygments_lexer": "ipython3",
   "version": "3.10.2"
  }
 },
 "nbformat": 4,
 "nbformat_minor": 5
}
